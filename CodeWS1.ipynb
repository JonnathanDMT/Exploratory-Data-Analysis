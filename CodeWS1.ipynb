{
 "cells": [
  {
   "cell_type": "markdown",
   "id": "77462774",
   "metadata": {},
   "source": [
    "# Workshop 1\n",
    "# Exploratory analysis of a property price dataset"
   ]
  },
  {
   "cell_type": "markdown",
   "id": "804d0ce6",
   "metadata": {},
   "source": [
    "## Objectives:\n",
    "1. Perform dataset cleanup: devise strategies to deal with missing data on certain variables.\n",
    "2. Carry out a descriptive analysis of the main variables.\n",
    "3. Create new columns from the given characteristics that may have predictive value."
   ]
  },
  {
   "cell_type": "markdown",
   "id": "491b1e26",
   "metadata": {},
   "source": [
    "## Download the worked dataset:\n",
    "https://drive.google.com/file/d/0BzVrTKc02N8qNUdDSExBQlFTNlU/view"
   ]
  },
  {
   "cell_type": "markdown",
   "id": "1ed93d94",
   "metadata": {},
   "source": [
    "## Requirements and material to deliver\n",
    "1. A jupyter notebook/lab that meets the project requirements, where the cleaning and analysis of the data to be delivered is performed and displayed. The notebook must be properly commented, and must be able to run without errors from start to finish.\n",
    "2. A presentation of no more than 10 minutes of the work done, consisting of a presentation accompanied by some non-technical slides (PPT or Google Slides)."
   ]
  },
  {
   "cell_type": "markdown",
   "id": "a6a14b0a",
   "metadata": {},
   "source": [
    "This presentation must consist of:\n",
    "- An introduction (statement of the problem, the question, the description of the dataset, etc.).\n",
    "- A development of the analyzes carried out (descriptive analysis, preliminary correlation analysis, preliminary visualizations).\n",
    "- An exposition of the main results and conclusions."
   ]
  },
  {
   "cell_type": "markdown",
   "id": "b8e36ee4",
   "metadata": {},
   "source": [
    "## General dataset information\n",
    "The dataset contains information about all the georeferenced properties in the company database. The information of each property that it includes is the following:\n",
    "- ID registration\n",
    "- Type of property (house, apartment, ph)\n",
    "- Ad operation (sell, rent)\n",
    "- Name of the place\n",
    "- Name of the place + name of their 'parents'\n",
    "- Geonames ID of the place (if available)\n",
    "- Latitude Longitude\n",
    "- Original price of the ad\n",
    "- Original currency of the notice (ARS, USD)\n",
    "- Ad price in local currency (ARS)\n",
    "- Approximate price in USD\n",
    "- Area in m2\n",
    "- Covered area in m2\n",
    "- Price in USD/m2\n",
    "- Price per m2\n",
    "- Floor number, if applicable\n",
    "- Environments\n",
    "- URL in Properati\n",
    "- Description\n",
    "- Title\n",
    "- URL of a thumbnail of the first photo"
   ]
  }
 ],
 "metadata": {
  "kernelspec": {
   "display_name": "Python 3 (ipykernel)",
   "language": "python",
   "name": "python3"
  },
  "language_info": {
   "codemirror_mode": {
    "name": "ipython",
    "version": 3
   },
   "file_extension": ".py",
   "mimetype": "text/x-python",
   "name": "python",
   "nbconvert_exporter": "python",
   "pygments_lexer": "ipython3",
   "version": "3.9.16"
  }
 },
 "nbformat": 4,
 "nbformat_minor": 5
}
